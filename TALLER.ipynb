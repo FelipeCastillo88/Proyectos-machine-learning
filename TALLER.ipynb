{
  "nbformat": 4,
  "nbformat_minor": 0,
  "metadata": {
    "colab": {
      "provenance": []
    },
    "kernelspec": {
      "name": "python3",
      "display_name": "Python 3"
    },
    "language_info": {
      "name": "python"
    }
  },
  "cells": [
    {
      "cell_type": "code",
      "source": [
        "#Taller 15 de Agosto\n",
        "#Integrantes: Deyvid Santiago Rueda (63191099) , Laura Cardona Galeano (63191036), Juan Felipe Castillo (63191021)"
      ],
      "metadata": {
        "id": "buBglMaWXL2k"
      },
      "execution_count": null,
      "outputs": []
    },
    {
      "cell_type": "markdown",
      "source": [
        "#### 1. Define dos variables, nombre y edad, e imprime un mensaje de saludo que las utilice.\n",
        "\n"
      ],
      "metadata": {
        "id": "KRtONvKe3oHd"
      }
    },
    {
      "cell_type": "code",
      "execution_count": null,
      "metadata": {
        "colab": {
          "base_uri": "https://localhost:8080/"
        },
        "id": "07HBFHTY0U-I",
        "outputId": "03279354-cc37-4b6f-fdeb-e5d7c1373391"
      },
      "outputs": [
        {
          "output_type": "stream",
          "name": "stdout",
          "text": [
            "Hola, caroortiz. ¡Bienvenido a Google Colab! Tienes 27 años.\n"
          ]
        }
      ],
      "source": [
        "# Definir las variables nombre y edad\n",
        "nombre = \"caroortiz\"\n",
        "edad = 27\n",
        "#Creación del mensaje\n",
        "mensaje = \"Hola, \" + nombre + \". ¡Bienvenido a Google Colab! Tienes \" + str(edad) + \" años.\"\n",
        "print(mensaje)"
      ]
    },
    {
      "cell_type": "markdown",
      "source": [
        "### 2. Calcula y muestra el área de un círculo. Pide al usuario que ingrese el radio."
      ],
      "metadata": {
        "id": "VnPcgZCe3xzs"
      }
    },
    {
      "cell_type": "code",
      "source": [
        "# Solicitar al usuario que ingrese el radio del círculo\n",
        "radio = float(input(\"Por favor, ingresa el radio del círculo: \"))\n",
        "\n",
        "# Cálculo del área del círculo\n",
        "area = 3.14159 * (radio ** 2)\n",
        "\n",
        "# Mostrar el área del círculo\n",
        "print(\"El área del círculo con radio\", radio, \"es:\", area)"
      ],
      "metadata": {
        "colab": {
          "base_uri": "https://localhost:8080/"
        },
        "id": "okRYd_la1pT5",
        "outputId": "a7d2f56c-b696-4fb0-ee49-e1fb99f5d906"
      },
      "execution_count": null,
      "outputs": [
        {
          "output_type": "stream",
          "name": "stdout",
          "text": [
            "Por favor, ingresa el radio del círculo: 23\n",
            "El área del círculo con radio 23.0 es: 1661.90111\n"
          ]
        }
      ]
    },
    {
      "cell_type": "markdown",
      "source": [
        "### 3. Escribe una función calcular_promedio que tome una lista de números como argumento y devuelva su promedio"
      ],
      "metadata": {
        "id": "tfZ_xheZ347K"
      }
    },
    {
      "cell_type": "code",
      "source": [
        "#Definir una función llamada calcular_promedio que toma una lista de números\n",
        "def calcular_promedio(lista_numeros):\n",
        "\n",
        "#Si la lista está vacía, se devuelve 0 para evitar una división por cero.\n",
        "    if len(lista_numeros) == 0:\n",
        "        return 0\n",
        "#Se calcula la suma total de los números en la lista\n",
        "    else:\n",
        "        suma_total = sum(lista_numeros)\n",
        "  #Se calcula el promedio\n",
        "        promedio = suma_total / len(lista_numeros)\n",
        "        return promedio\n",
        "numeros = [5, 10, 15, 20, 25]\n",
        "promedio_resultado = calcular_promedio(numeros)\n",
        "print(\"El promedio de la lista es:\", promedio_resultado)"
      ],
      "metadata": {
        "colab": {
          "base_uri": "https://localhost:8080/"
        },
        "id": "1qPsaXQv2QoH",
        "outputId": "8e51400d-533f-4f15-995d-43b1973f807e"
      },
      "execution_count": null,
      "outputs": [
        {
          "output_type": "stream",
          "name": "stdout",
          "text": [
            "El promedio de la lista es: 15.0\n"
          ]
        }
      ]
    },
    {
      "cell_type": "markdown",
      "source": [
        "#### 4. Crea una lista de números y utiliza un bucle for para mostrar los números mayores que 10."
      ],
      "metadata": {
        "id": "xjiIApb439sy"
      }
    },
    {
      "cell_type": "code",
      "source": [
        "# Crear una lista de números\n",
        "numeros = [58, 20, 8, 15, 3, 16, 32, 11]\n",
        "# Mostrar los números mayores que 10 utilizando un bucle for\n",
        "print(\"Números mayores que 10:\")\n",
        "for numero in numeros:\n",
        "    if numero > 10:\n",
        "        print(numero)"
      ],
      "metadata": {
        "colab": {
          "base_uri": "https://localhost:8080/"
        },
        "id": "r-tCuKnV23E0",
        "outputId": "b4bbe8da-8e94-4d05-c901-a237c67b0301"
      },
      "execution_count": null,
      "outputs": [
        {
          "output_type": "stream",
          "name": "stdout",
          "text": [
            "Números mayores que 10:\n",
            "58\n",
            "20\n",
            "15\n",
            "16\n",
            "32\n",
            "11\n"
          ]
        }
      ]
    },
    {
      "cell_type": "markdown",
      "source": [
        "### 5. Define un diccionario que almacene los precios de tres productos diferentes. Pide al usuario que ingrese el nombre de un producto y muestra su precio."
      ],
      "metadata": {
        "id": "RAso6ye-4BLC"
      }
    },
    {
      "cell_type": "code",
      "source": [
        "# Definir el diccionario de precios de productos\n",
        "precios_productos = {\n",
        "    \"Leche\": 2900,\n",
        "    \"Huevos\": 18000,\n",
        "    \"Pan\": 3000}\n",
        "# Solicitar al usuario que ingrese el nombre de un producto\n",
        "producto_ingresado = input(\"Ingresa el nombre de un producto: \")\n",
        "\n",
        "# Verificar si el producto está en el diccionario y mostrar su precio\n",
        "if producto_ingresado in precios_productos:\n",
        "    precio = precios_productos[producto_ingresado]\n",
        "    print(f\"El precio de {producto_ingresado} es: {precio}\")\n",
        "else:\n",
        "    print(\"Producto no encontrado en el diccionario de precios.\")\n"
      ],
      "metadata": {
        "colab": {
          "base_uri": "https://localhost:8080/"
        },
        "id": "a_YzcV8G3klU",
        "outputId": "4eb52209-7bcc-4a85-a6e8-0268765d542c"
      },
      "execution_count": null,
      "outputs": [
        {
          "output_type": "stream",
          "name": "stdout",
          "text": [
            "Ingresa el nombre de un producto: Huevos\n",
            "El precio de Huevos es: 18000\n"
          ]
        }
      ]
    },
    {
      "cell_type": "markdown",
      "source": [
        "### 6. Escribe una función es_primo que determine si un número dado es primo o no."
      ],
      "metadata": {
        "id": "DZgmCR0J5Snu"
      }
    },
    {
      "cell_type": "code",
      "source": [
        "#Definir una función llamada es_primo\n",
        "def es_primo(numero):\n",
        "    if numero <= 1:\n",
        "        return False\n",
        "    if numero <= 3:\n",
        "        return True\n",
        "  # Se verifican los casos en que numero es divisible por 2 o 3 (números pares y múltiplos de 3). En esos casos, el número no es primo.\n",
        "    if numero % 2 == 0 or numero % 3 == 0:\n",
        "        return False\n",
        "    i = 5\n",
        "   #Se utiliza el bucle while para verficar que hayan numeros primos.\n",
        "    while i * i <= numero:\n",
        "        if numero % i == 0 or numero % (i + 2) == 0:\n",
        "            return False\n",
        "        i += 6\n",
        "    return True\n",
        " #Se utiliza input() para solicitar al usuario que ingrese un número\n",
        "numero_ingresado = int(input(\"Ingresa un número: \"))\n",
        "if es_primo(numero_ingresado):\n",
        "    print(numero_ingresado, \"es un número primo.\")\n",
        "else:\n",
        "    print(numero_ingresado, \"no es un número primo.\")"
      ],
      "metadata": {
        "colab": {
          "base_uri": "https://localhost:8080/"
        },
        "id": "EbhNtDRo4fAr",
        "outputId": "a8b6b889-7dc7-4869-c102-1272ed6999ce"
      },
      "execution_count": null,
      "outputs": [
        {
          "output_type": "stream",
          "name": "stdout",
          "text": [
            "Ingresa un número: 11\n",
            "11 es un número primo.\n"
          ]
        }
      ]
    },
    {
      "cell_type": "markdown",
      "source": [
        "### 7. Crea una lista de nombres y utiliza un bucle while para imprimir cada nombre hasta que encuentres el nombre \"Alex\""
      ],
      "metadata": {
        "id": "UPrW4tJO6vsK"
      }
    },
    {
      "cell_type": "code",
      "source": [
        "# Crear una lista de nombres\n",
        "nombres = [\"Valentina\", \"Paula\", \"Laura\", \"Felipe\", \"Camilo\", \"Santiago\", \"Alex\", \"Deyvid\", \"Karen\"]\n",
        "\n",
        "# Utilizar un bucle while para imprimir cada nombre hasta encontrar \"Alex\"\n",
        "indice = 0\n",
        "while indice < len(nombres) and nombres[indice] != \"Alex\":\n",
        "    print(nombres[indice])\n",
        "    indice += 1"
      ],
      "metadata": {
        "colab": {
          "base_uri": "https://localhost:8080/"
        },
        "id": "E1mu1WVz6Fll",
        "outputId": "4c907131-9aa0-4b78-eb16-4234700f99f3"
      },
      "execution_count": 2,
      "outputs": [
        {
          "output_type": "stream",
          "name": "stdout",
          "text": [
            "Valentina\n",
            "Paula\n",
            "Laura\n",
            "Felipe\n",
            "Camilo\n",
            "Santiago\n"
          ]
        }
      ]
    },
    {
      "cell_type": "markdown",
      "source": [
        "### 8. Escribe una función invertir_cadena que tome una cadena como argumento y devuelva la cadena invertida."
      ],
      "metadata": {
        "id": "pMa45cDj7x0B"
      }
    },
    {
      "cell_type": "code",
      "source": [
        "#Definir la funcion invertir cadena utilizando cadena[::-1] para invertir la cadena\n",
        "def invertir_cadena(cadena):\n",
        "    cadena_invertida = cadena[::-1]\n",
        "    return cadena_invertida\n",
        "cadena_original = input(\"cadena: \")\n",
        "cadena_invertida = invertir_cadena(cadena_original)\n",
        "print(\"Cadena original:\", cadena_original)\n",
        "print(\"Cadena invertida:\", cadena_invertida)"
      ],
      "metadata": {
        "colab": {
          "base_uri": "https://localhost:8080/"
        },
        "id": "u9og_97Y78-I",
        "outputId": "2d9de2fd-ed14-4b6b-bfb8-05afb2f25e46"
      },
      "execution_count": null,
      "outputs": [
        {
          "output_type": "stream",
          "name": "stdout",
          "text": [
            "cadena: Universidad De La Salle\n",
            "Cadena original: Universidad De La Salle\n",
            "Cadena invertida: ellaS aL eD dadisrevinU\n"
          ]
        }
      ]
    },
    {
      "cell_type": "markdown",
      "source": [
        "### 9. Crea una lista de números pares del 2 al 20 utilizando una comprensión de lista."
      ],
      "metadata": {
        "id": "NI-2eot4_t3O"
      }
    },
    {
      "cell_type": "code",
      "source": [
        "# Crear una lista de números pares del 2 al 20 utilizando comprensión de lista\n",
        "numeros_pares = [x for x in range(2, 21, 2)]\n",
        "# Mostrar la lista de números pares\n",
        "print(\"Lista de números pares:\", numeros_pares)"
      ],
      "metadata": {
        "colab": {
          "base_uri": "https://localhost:8080/"
        },
        "id": "7uyWYN1k_QDY",
        "outputId": "4970ca34-e4a1-4bb3-f43d-f0e04beeebec"
      },
      "execution_count": null,
      "outputs": [
        {
          "output_type": "stream",
          "name": "stdout",
          "text": [
            "Lista de números pares: [2, 4, 6, 8, 10, 12, 14, 16, 18, 20]\n"
          ]
        }
      ]
    },
    {
      "cell_type": "markdown",
      "source": [
        "### 10. Escribe un programa que genere los primeros términos de la serie de Fibonacci a discresión del usuario."
      ],
      "metadata": {
        "id": "UrHxIP5fAb-U"
      }
    },
    {
      "cell_type": "code",
      "source": [
        "#Definir la función generar_fibonacci\n",
        "def generar_fibonacci(n):\n",
        "    fibonacci = [0, 1]\n",
        "    for i in range(2, n):\n",
        "        siguiente_numero = fibonacci[i - 1] + fibonacci[i - 2]\n",
        "        fibonacci.append(siguiente_numero)\n",
        "    return fibonacci\n",
        "# Solicitar al usuario la cantidad de términos a generar\n",
        "N = int(input(\"Ingrese la cantidad de términos de la serie de Fibonacci a generar: \"))\n",
        "# Generar la serie de Fibonacci\n",
        "serie_fibonacci = generar_fibonacci(N)\n",
        "print(f\"Los primeros {N} términos de la serie de Fibonacci son: {serie_fibonacci}\")"
      ],
      "metadata": {
        "colab": {
          "base_uri": "https://localhost:8080/"
        },
        "id": "V2aaEp-mADj9",
        "outputId": "f27d846e-62c1-450e-ff85-1943b920d4d5"
      },
      "execution_count": null,
      "outputs": [
        {
          "output_type": "stream",
          "name": "stdout",
          "text": [
            "Ingrese la cantidad de términos de la serie de Fibonacci a generar: 7\n",
            "Los primeros 7 términos de la serie de Fibonacci son: [0, 1, 1, 2, 3, 5, 8]\n"
          ]
        }
      ]
    },
    {
      "cell_type": "markdown",
      "source": [
        "### 11. Escribe una función calcular_interes_simple que calcule el interés simple dado el principal, la tasa de interés y el tiempo en años."
      ],
      "metadata": {
        "id": "cZXIKHOUA8J6"
      }
    },
    {
      "cell_type": "code",
      "source": [
        "#Definir la función tomando los argumentos (principal. tasa_interes, tiempo_años)\n",
        "def calcular_interes_simple(principal, tasa_interes, tiempo_anos):\n",
        "    interes = principal * (tasa_interes / 100) * tiempo_anos\n",
        "    return interes\n",
        "\n",
        "# Solicitar al usuario los valores para el cálculo\n",
        "principal = float(input(\"Ingrese el principal del préstamo: \"))\n",
        "tasa_interes = float(input(\"Ingrese la tasa de interés anual (%): \"))\n",
        "tiempo_anos = float(input(\"Ingrese el tiempo en años: \"))\n",
        "\n",
        "# Calcular el interés simple\n",
        "interes = calcular_interes_simple(principal, tasa_interes, tiempo_anos)\n",
        "print(f\"El interés simple es: {interes:.2f}\")"
      ],
      "metadata": {
        "colab": {
          "base_uri": "https://localhost:8080/"
        },
        "id": "zkjxcqr5Azq6",
        "outputId": "0bd69c35-0757-461f-d9f0-602d115013a8"
      },
      "execution_count": null,
      "outputs": [
        {
          "output_type": "stream",
          "name": "stdout",
          "text": [
            "Ingrese el principal del préstamo: 5000000\n",
            "Ingrese la tasa de interés anual (%): 2\n",
            "Ingrese el tiempo en años: 10\n",
            "El interés simple es: 1000000.00\n"
          ]
        }
      ]
    },
    {
      "cell_type": "markdown",
      "source": [
        "### 12. Crea una lista de precios de acciones. Utiliza una función para calcular el promedio de esos precios."
      ],
      "metadata": {
        "id": "I_LF5RYHCKkX"
      }
    },
    {
      "cell_type": "code",
      "source": [
        "#definir la funcion sumando los precios y sacando el promedio\n",
        "def calcular_promedio_precios(precios):\n",
        "    total_precios = sum(precios)\n",
        "    promedio = total_precios / len(precios)\n",
        "    return promedio\n",
        "# Crear una lista de precios de acciones\n",
        "precios_acciones = [2.6, 13.9, 1.5, 7.8, 4.3, 6.7]\n",
        "\n",
        "# Calcular el promedio de precios de acciones utilizando la función\n",
        "promedio_precios = calcular_promedio_precios(precios_acciones)\n",
        "print(f\"El promedio de precios de acciones es: {promedio_precios:.2f}\")"
      ],
      "metadata": {
        "colab": {
          "base_uri": "https://localhost:8080/"
        },
        "id": "hnmDdHJCCF7m",
        "outputId": "9416448b-0a21-4da2-a657-929af751be5c"
      },
      "execution_count": null,
      "outputs": [
        {
          "output_type": "stream",
          "name": "stdout",
          "text": [
            "El promedio de precios de acciones es: 6.13\n"
          ]
        }
      ]
    },
    {
      "cell_type": "markdown",
      "source": [
        "### 13. Escribe una función convertir_dolares_a_euros que tome una cantidad en dólares y la convierta a euros (usando una tasa de cambio fija)."
      ],
      "metadata": {
        "id": "r_bIWj_9CgH2"
      }
    },
    {
      "cell_type": "code",
      "source": [
        "def convertir_dolares_a_euros(cantidad_dolares, tasa_cambio):\n",
        "    cantidad_euros = cantidad_dolares * tasa_cambio\n",
        "    return cantidad_euros\n",
        "# Tasa de cambio de dólar a euro\n",
        "tasa_cambio_dolar_a_euro = 0.92\n",
        "# Solicitar al usuario la cantidad en dólares a convertir\n",
        "cantidad_dolares = float(input(\"Ingrese la cantidad en dólares a convertir: \"))\n",
        "\n",
        "# Convertir la cantidad de dólares a euros utilizando la función\n",
        "cantidad_euros = convertir_dolares_a_euros(cantidad_dolares, tasa_cambio_dolar_a_euro)\n",
        "print(f\"{cantidad_dolares:.2f} dólares son equivalentes a {cantidad_euros:.2f} euros\")"
      ],
      "metadata": {
        "colab": {
          "base_uri": "https://localhost:8080/"
        },
        "id": "iXHRz1-kCcT2",
        "outputId": "250a84e9-4bbd-4aa3-b7c9-17c6f877a783"
      },
      "execution_count": null,
      "outputs": [
        {
          "output_type": "stream",
          "name": "stdout",
          "text": [
            "Ingrese la cantidad en dólares a convertir: 50\n",
            "50.00 dólares son equivalentes a 46.00 euros\n"
          ]
        }
      ]
    },
    {
      "cell_type": "markdown",
      "source": [
        "### 14. Crea una función calcular_factorial que calcule el factorial de un número dado."
      ],
      "metadata": {
        "id": "q2tlFt4VC-uU"
      }
    },
    {
      "cell_type": "code",
      "source": [
        "def calcular_factorial(numero):\n",
        "   #se realiza una verificación inicial para los casos en que numero es 0 o 1.\n",
        "    if numero == 0 or numero == 1:\n",
        "        return 1\n",
        "    #Si numero no es 0 ni 1, se calcula el factorial recursivamente multiplicando numero por el factorial del número anterior\n",
        "    else:\n",
        "        return numero * calcular_factorial(numero - 1)\n",
        "numero = int(input(\"Ingrese un número para calcular su factorial: \"))\n",
        "\n",
        "# Calcular el factorial utilizando la función\n",
        "factorial = calcular_factorial(numero)\n",
        "print(f\"El factorial de {numero} es: {factorial}\")"
      ],
      "metadata": {
        "colab": {
          "base_uri": "https://localhost:8080/"
        },
        "id": "fK6erqOeC3Kk",
        "outputId": "e4fdb00c-65bf-4f18-d633-ffa36f07328c"
      },
      "execution_count": null,
      "outputs": [
        {
          "output_type": "stream",
          "name": "stdout",
          "text": [
            "Ingrese un número para calcular su factorial: 19\n",
            "El factorial de 19 es: 121645100408832000\n"
          ]
        }
      ]
    },
    {
      "cell_type": "markdown",
      "source": [
        "### 15. Define un diccionario que contenga los nombres y saldos de cuentas bancarias. Escribe una función que encuentre la cuenta con el saldo más alto."
      ],
      "metadata": {
        "id": "m0rXMFkPDOs9"
      }
    },
    {
      "cell_type": "code",
      "source": [
        "#definir la funcion tomando \"diccionario cuentas\"\n",
        "def encontrar_cuenta_con_saldo_mas_alto(diccionario_cuentas):\n",
        "    saldo_mas_alto = float('-inf')\n",
        "    cuenta_con_saldo_mas_alto = None\n",
        "  #Se usa un bucle para recorrer el diccionario\n",
        "    for cuenta, saldo in diccionario_cuentas.items():\n",
        "  #Si se encuentra una cuenta con un saldo mayor que saldo_mas_alto, se actualizan las variables saldo_mas_alto y cuenta_con_saldo_mas_alto\n",
        "        if saldo > saldo_mas_alto:\n",
        "            saldo_mas_alto = saldo\n",
        "            cuenta_con_saldo_mas_alto = cuenta\n",
        "    return cuenta_con_saldo_mas_alto, saldo_mas_alto\n",
        "# Definir el diccionario de cuentas bancarias\n",
        "cuentas_bancarias = {\n",
        "    \"Felipe\": 3335000,\n",
        "    \"Laura\": 1200000,\n",
        "    \"Santiago\": 100000,\n",
        "    \"Paula\": 3200000}\n",
        "# Llamar a la función para encontrar la cuenta con el saldo más alto\n",
        "cuenta_mas_alta, saldo_mas_alto = encontrar_cuenta_con_saldo_mas_alto(cuentas_bancarias)\n",
        "print(f\"La cuenta con el saldo más alto es '{cuenta_mas_alta}' con un saldo de {saldo_mas_alto:.2f}\")"
      ],
      "metadata": {
        "colab": {
          "base_uri": "https://localhost:8080/"
        },
        "id": "G3n3qPHfDJeE",
        "outputId": "9e3c7afb-1e8d-431a-a490-1ae2481e5109"
      },
      "execution_count": null,
      "outputs": [
        {
          "output_type": "stream",
          "name": "stdout",
          "text": [
            "La cuenta con el saldo más alto es 'Felipe' con un saldo de 3335000.00\n"
          ]
        }
      ]
    },
    {
      "cell_type": "markdown",
      "source": [
        "### 16. Escribe un programa que calcule e imprima los primeros números triangulares a discresión del usuario."
      ],
      "metadata": {
        "id": "hwdpVh5uD04U"
      }
    },
    {
      "cell_type": "code",
      "source": [
        "#Definir la funcion que toma un numero n  y genera los primeros n numeros triangulares\n",
        "def calcular_numeros_triangulares(n):\n",
        "    numeros_triangulares = []\n",
        "    suma = 0\n",
        "    for i in range(1, n + 1):\n",
        "        suma += i\n",
        "        numeros_triangulares.append(suma)\n",
        "    return numeros_triangulares\n",
        "# Solicitar al usuario la cantidad de números triangulares a generar\n",
        "N = int(input(\"Ingrese la cantidad de números triangulares a generar: \"))\n",
        "\n",
        "# Calcular los números triangulares utilizando la función\n",
        "numeros_triangulares = calcular_numeros_triangulares(N)\n",
        "print(f\"Los primeros {N} números triangulares son: {numeros_triangulares}\")"
      ],
      "metadata": {
        "colab": {
          "base_uri": "https://localhost:8080/"
        },
        "id": "PESAqSlQDx0E",
        "outputId": "0e008085-c5f0-444d-e216-3f6cf018a5f0"
      },
      "execution_count": null,
      "outputs": [
        {
          "output_type": "stream",
          "name": "stdout",
          "text": [
            "Ingrese la cantidad de números triangulares a generar: 6\n",
            "Los primeros 6 números triangulares son: [1, 3, 6, 10, 15, 21]\n"
          ]
        }
      ]
    },
    {
      "cell_type": "markdown",
      "source": [
        "###17. Crea una función calcular_descuento que calcule el precio final después de aplicar un descuento a un artículo."
      ],
      "metadata": {
        "id": "4QPHu9WaEJPr"
      }
    },
    {
      "cell_type": "code",
      "source": [
        "#Definir la funcion que toma precio _original y porcentaje_descuento como argumentos\n",
        "def calcular_descuento(precio_original, porcentaje_descuento):\n",
        "#se calcula el monto del descuento multiplicando el precio original por el porcentaje de descuento\n",
        "    descuento = precio_original * (porcentaje_descuento / 100)\n",
        "#se calcula el precio final restando el monto del descuento al precio original.\n",
        "    precio_final = precio_original - descuento\n",
        "    return precio_final\n",
        "# Solicitar al usuario los valores para el cálculo\n",
        "precio_original = float(input(\"Ingrese el precio original del artículo: \"))\n",
        "porcentaje_descuento = float(input(\"Ingrese el porcentaje de descuento: \"))\n",
        "\n",
        "# Calcular el precio final después del descuento utilizando la función\n",
        "precio_final = calcular_descuento(precio_original, porcentaje_descuento)\n",
        "print(f\"El precio final después del descuento es: {precio_final:.2f}\")"
      ],
      "metadata": {
        "colab": {
          "base_uri": "https://localhost:8080/"
        },
        "id": "NGtR4mloEAZz",
        "outputId": "2b4ebff2-68f9-4d6e-d17f-7d3867bba8d1"
      },
      "execution_count": null,
      "outputs": [
        {
          "output_type": "stream",
          "name": "stdout",
          "text": [
            "Ingrese el precio original del artículo: 100000\n",
            "Ingrese el porcentaje de descuento: 40\n",
            "El precio final después del descuento es: 60000.00\n"
          ]
        }
      ]
    },
    {
      "cell_type": "markdown",
      "source": [
        "### 18. Escribe una función que tome una lista de números y devuelva una nueva lista con solo los números pares."
      ],
      "metadata": {
        "id": "gDsFN2cDEiGp"
      }
    },
    {
      "cell_type": "code",
      "source": [
        "def filtrar_numeros_pares(lista_numeros):\n",
        "#Se utiliza una comprensión de lista para crear una nueva lista llamada numeros_pares que contiene solo los números pares de la lista original. Para saber si un numero es divisible entre 2\n",
        "    numeros_pares = [num for num in lista_numeros if num % 2 == 0]\n",
        "    return numeros_pares\n",
        "# Solicitar al usuario una lista de números separados por espacios\n",
        "entrada_numeros = input(\"Ingrese una lista de números separados por espacios: \")\n",
        "# Convertir la entrada en una lista de números\n",
        "lista_numeros = [int(num) for num in entrada_numeros.split()]\n",
        "# Llamar a la función para filtrar los números pares\n",
        "numeros_pares = filtrar_numeros_pares(lista_numeros)\n",
        "print(f\"Los números pares en la lista son: {numeros_pares}\")"
      ],
      "metadata": {
        "colab": {
          "base_uri": "https://localhost:8080/"
        },
        "id": "jyiUjf6iEUOi",
        "outputId": "1d7fa781-21f2-4389-e6f4-6d9cc4fe27ec"
      },
      "execution_count": null,
      "outputs": [
        {
          "output_type": "stream",
          "name": "stdout",
          "text": [
            "Ingrese una lista de números separados por espacios: 3 16 7 8 9 10 11 12 13 14 15 76 24 63\n",
            "Los números pares en la lista son: [16, 8, 10, 12, 14, 76, 24]\n"
          ]
        }
      ]
    },
    {
      "cell_type": "markdown",
      "source": [
        "### 19. Crea una lista de números y utiliza una función para encontrar el número más grande y el más pequeño."
      ],
      "metadata": {
        "id": "kEecw03vFNVg"
      }
    },
    {
      "cell_type": "code",
      "source": [
        "def encontrar_numero_mas_grande(lista_numeros):\n",
        "    if not lista_numeros:\n",
        "        return None  # La lista está vacía\n",
        "    return max(lista_numeros)\n",
        "\n",
        "def encontrar_numero_mas_pequeno(lista_numeros):\n",
        "    if not lista_numeros:\n",
        "        return None  # La lista está vacía\n",
        "    return min(lista_numeros)\n",
        "\n",
        "# Crear una lista de números\n",
        "lista_numeros = [345, 567, 789, 723, 872, 983, 123, 435]\n",
        "\n",
        "# Encontrar el número más grande y el más pequeño en la lista\n",
        "numero_mas_grande = encontrar_numero_mas_grande(lista_numeros)\n",
        "numero_mas_pequeno = encontrar_numero_mas_pequeno(lista_numeros)\n",
        "\n",
        "print(f\"El número más grande es: {numero_mas_grande}\")\n",
        "print(f\"El número más pequeño es: {numero_mas_pequeno}\")"
      ],
      "metadata": {
        "id": "S4BoOPgyEp3h",
        "colab": {
          "base_uri": "https://localhost:8080/"
        },
        "outputId": "6064ecac-9b7a-4105-9c55-a9854d9b1287"
      },
      "execution_count": null,
      "outputs": [
        {
          "output_type": "stream",
          "name": "stdout",
          "text": [
            "El número más grande es: 983\n",
            "El número más pequeño es: 123\n"
          ]
        }
      ]
    },
    {
      "cell_type": "markdown",
      "source": [
        "### 20. Escribe un programa que genere e imprima los primeros términos de la secuencia de números de Pell a discresión del usuario"
      ],
      "metadata": {
        "id": "XmGu52YivLtE"
      }
    },
    {
      "cell_type": "code",
      "source": [
        "def pell_sequence(n):\n",
        "    sequence = [0, 1]  # Inicializamos la secuencia con los primeros dos términos\n",
        "\n",
        "    for i in range(2, n):\n",
        "        next_term = 2 * sequence[i - 1] + sequence[i - 2]\n",
        "        sequence.append(next_term)\n",
        "\n",
        "    return sequence\n",
        "\n",
        "# Solicitar al usuario el valor de N\n",
        "N = int(input(\"Ingrese la cantidad de términos de la secuencia de Pell a generar: \"))\n",
        "\n",
        "# Generar la secuencia de Pell y imprimir los resultados\n",
        "pell_seq = pell_sequence(N)\n",
        "print(f\"Los primeros {N} términos de la secuencia de Pell son: {pell_seq}\")"
      ],
      "metadata": {
        "colab": {
          "base_uri": "https://localhost:8080/"
        },
        "id": "vrmwo7PsvFLn",
        "outputId": "ac64f102-0ac9-4c6f-e886-f3e35615eccb"
      },
      "execution_count": null,
      "outputs": [
        {
          "output_type": "stream",
          "name": "stdout",
          "text": [
            "Ingrese la cantidad de términos de la secuencia de Pell a generar: 6\n",
            "Los primeros 6 términos de la secuencia de Pell son: [0, 1, 2, 5, 12, 29]\n"
          ]
        }
      ]
    },
    {
      "cell_type": "markdown",
      "source": [
        "### 21 Crea una función calcular_amortizacion que calcule la amortización de un préstamo a lo largo del tiempo."
      ],
      "metadata": {
        "id": "qY0bvb8cwnIS"
      }
    },
    {
      "cell_type": "code",
      "source": [
        "def calcular_amortizacion(monto_prestamo, tasa_interes_anual, plazo_meses):\n",
        "    tasa_interes_mensual = tasa_interes_anual / 12 / 100\n",
        "    cuota_mensual = (monto_prestamo * tasa_interes_mensual) / (1 - (1 + tasa_interes_mensual) ** -plazo_meses)\n",
        "\n",
        "    amortizacion = []\n",
        "    saldo_pendiente = monto_prestamo\n",
        "\n",
        "    for mes in range(1, plazo_meses + 1):\n",
        "        interes_mensual = saldo_pendiente * tasa_interes_mensual\n",
        "        capital_mensual = cuota_mensual - interes_mensual\n",
        "        saldo_pendiente -= capital_mensual\n",
        "        amortizacion.append((mes, cuota_mensual, capital_mensual, interes_mensual, saldo_pendiente))\n",
        "\n",
        "    return amortizacion\n",
        "\n",
        "# Ejemplo de uso:\n",
        "monto_prestamo = 190000000  # Monto del préstamo\n",
        "tasa_interes_anual = 4.5  # Tasa de interés anual (en porcentaje)\n",
        "plazo_meses = 12        # Plazo del préstamo en meses\n",
        "\n",
        "amortizacion = calcular_amortizacion(monto_prestamo, tasa_interes_anual, plazo_meses)\n",
        "\n",
        "# Imprimir tabla de amortización\n",
        "print(\"Mes\\tCuota\\tCapital\\tInterés\\tSaldo Pendiente\")\n",
        "for pago in amortizacion:\n",
        "    mes, cuota, capital, interes, saldo = pago\n",
        "    print(f\"{mes}\\t{cuota:.2f}\\t{capital:.2f}\\t{interes:.2f}\\t{saldo:.2f}\")\n"
      ],
      "metadata": {
        "colab": {
          "base_uri": "https://localhost:8080/"
        },
        "id": "dmGIFuBzwTgh",
        "outputId": "31fcf2fa-fdb2-4219-dfaa-334a853295e3"
      },
      "execution_count": null,
      "outputs": [
        {
          "output_type": "stream",
          "name": "stdout",
          "text": [
            "Mes\tCuota\tCapital\tInterés\tSaldo Pendiente\n",
            "1\t16221919.10\t15509419.10\t712500.00\t174490580.90\n",
            "2\t16221919.10\t15567579.42\t654339.68\t158923001.48\n",
            "3\t16221919.10\t15625957.85\t595961.26\t143297043.63\n",
            "4\t16221919.10\t15684555.19\t537363.91\t127612488.44\n",
            "5\t16221919.10\t15743372.27\t478546.83\t111869116.17\n",
            "6\t16221919.10\t15802409.92\t419509.19\t96066706.26\n",
            "7\t16221919.10\t15861668.95\t360250.15\t80205037.30\n",
            "8\t16221919.10\t15921150.21\t300768.89\t64283887.09\n",
            "9\t16221919.10\t15980854.52\t241064.58\t48303032.57\n",
            "10\t16221919.10\t16040782.73\t181136.37\t32262249.84\n",
            "11\t16221919.10\t16100935.66\t120983.44\t16161314.17\n",
            "12\t16221919.10\t16161314.17\t60604.93\t-0.00\n"
          ]
        }
      ]
    },
    {
      "cell_type": "markdown",
      "source": [
        "### 22. Escribe un programa que determine si un número dado es un número perfecto o no"
      ],
      "metadata": {
        "id": "ysaZOnnWLB-G"
      }
    },
    {
      "cell_type": "code",
      "source": [
        "def es_numero_perfecto(numero):\n",
        "    suma_divisores = 0\n",
        "    for i in range(1, numero):\n",
        "        if numero % i == 0:\n",
        "            suma_divisores += i\n",
        "    return suma_divisores == numero\n",
        "\n",
        "# Solicitar al usuario un número para verificar\n",
        "numero = int(input(\"Ingrese un número para verificar si es un número perfecto: \"))\n",
        "\n",
        "if es_numero_perfecto(numero):\n",
        "    print(f\"{numero} es un número perfecto.\")\n",
        "else:\n",
        "    print(f\"{numero} no es un número perfecto.\")"
      ],
      "metadata": {
        "colab": {
          "base_uri": "https://localhost:8080/"
        },
        "id": "tmP5Fnf1wkhf",
        "outputId": "ad7784bd-0c40-4acd-dac1-da77c5def8aa"
      },
      "execution_count": null,
      "outputs": [
        {
          "output_type": "stream",
          "name": "stdout",
          "text": [
            "Ingrese un número para verificar si es un número perfecto: 6\n",
            "6 es un número perfecto.\n"
          ]
        }
      ]
    },
    {
      "cell_type": "markdown",
      "source": [
        "### 23. Define un diccionario que almacene las tasas de interés para diferentes tipos de préstamos. Pide al usuario que ingrese un tipo de préstamo y muestra la tasa de interés correspondiente."
      ],
      "metadata": {
        "id": "5h_XxY-JLzIP"
      }
    },
    {
      "cell_type": "code",
      "source": [
        "# Definir el diccionario de tasas de interés para diferentes tipos de préstamos\n",
        "tasas_interes = {\n",
        "    \"fija\": 10,\n",
        "    \"flotante\": 7.5,\n",
        "    \"real\": 6.0,\n",
        "    \"efectiva\": 2.4\n",
        "}\n",
        "\n",
        "# Solicitar al usuario el tipo de préstamo\n",
        "tipo_prestamo = input(\"Ingrese el tipo de préstamo (personal, hipotecario, automotriz, estudiantil): \")\n",
        "\n",
        "# Verificar si el tipo de préstamo está en el diccionario y mostrar la tasa de interés\n",
        "if tipo_prestamo in tasas_interes:\n",
        "    tasa = tasas_interes[tipo_prestamo]\n",
        "    print(f\"La tasa de interés para el préstamo {tipo_prestamo} es {tasa}%.\")\n",
        "else:\n",
        "    print(\"Tipo de préstamo no válido. Por favor, ingrese un tipo válido.\")"
      ],
      "metadata": {
        "colab": {
          "base_uri": "https://localhost:8080/"
        },
        "id": "M_-Ns2hJLPtC",
        "outputId": "3cead64a-dfa2-4552-bdd7-840422d3af3f"
      },
      "execution_count": null,
      "outputs": [
        {
          "output_type": "stream",
          "name": "stdout",
          "text": [
            "Ingrese el tipo de préstamo (personal, hipotecario, automotriz, estudiantil): efectiva\n",
            "La tasa de interés para el préstamo efectiva es 2.4%.\n"
          ]
        }
      ]
    },
    {
      "cell_type": "markdown",
      "source": [
        "### 24. Escribe una función calcular_media_geometrica que calcule la media geométrica de una lista de números."
      ],
      "metadata": {
        "id": "SajLT7F6M1z8"
      }
    },
    {
      "cell_type": "code",
      "source": [
        "from math import prod\n",
        "\n",
        "def calcular_media_geometrica(lista_numeros):\n",
        "    producto = prod(lista_numeros)\n",
        "    media_geometrica = producto ** (1 / len(lista_numeros))\n",
        "    return media_geometrica\n",
        "\n",
        "# Solicitar al usuario una lista de números separados por espacios\n",
        "entrada_numeros = input(\"Ingrese una lista de números separados por espacios: \")\n",
        "lista_numeros = [float(num) for num in entrada_numeros.split()]\n",
        "\n",
        "# Calcular y mostrar la media geométrica\n",
        "media_geo = calcular_media_geometrica(lista_numeros)\n",
        "print(f\"La media geométrica de la lista de números es: {media_geo}\")\n"
      ],
      "metadata": {
        "colab": {
          "base_uri": "https://localhost:8080/"
        },
        "id": "4LcVa2UIMVOQ",
        "outputId": "ff7f2b48-3827-4226-a244-a6746a5b234d"
      },
      "execution_count": null,
      "outputs": [
        {
          "output_type": "stream",
          "name": "stdout",
          "text": [
            "Ingrese una lista de números separados por espacios: 3 3 6 9 12 25 67 23\n",
            "La media geométrica de la lista de números es: 11.06483699418321\n"
          ]
        }
      ]
    },
    {
      "cell_type": "markdown",
      "source": [
        "### 25. Crea una lista de números y utiliza una función para encontrar el segundo número más grande."
      ],
      "metadata": {
        "id": "dnCt9hTDNqiA"
      }
    },
    {
      "cell_type": "code",
      "source": [
        "def segundo_mas_grande(lista_numeros):\n",
        "    if len(lista_numeros) < 2:\n",
        "        return None  # No hay suficientes elementos en la lista para encontrar el segundo más grande\n",
        "\n",
        "    max1 = max(lista_numeros[0], lista_numeros[1])\n",
        "    max2 = min(lista_numeros[0], lista_numeros[1])\n",
        "\n",
        "    for num in lista_numeros[2:]:\n",
        "        if num > max1:\n",
        "            max2 = max1\n",
        "            max1 = num\n",
        "        elif num > max2:\n",
        "            max2 = num\n",
        "\n",
        "    return max2\n",
        "\n",
        "# Crear una lista de números\n",
        "lista_numeros = [67, 234, 4568, 1234, 78634, 236784, 325, 12678]\n",
        "\n",
        "# Encontrar el segundo número más grande en la lista\n",
        "segundo_max = segundo_mas_grande(lista_numeros)\n",
        "\n",
        "if segundo_max is not None:\n",
        "    print(f\"El segundo número más grande es: {segundo_max}\")\n",
        "else:\n",
        "    print(\"No hay suficientes elementos en la lista para encontrar el segundo número más grande.\")"
      ],
      "metadata": {
        "colab": {
          "base_uri": "https://localhost:8080/"
        },
        "id": "ko5tKvi0M9dL",
        "outputId": "fec0bf98-d5f8-404f-9be9-070ebfa6adfb"
      },
      "execution_count": null,
      "outputs": [
        {
          "output_type": "stream",
          "name": "stdout",
          "text": [
            "El segundo número más grande es: 78634\n"
          ]
        }
      ]
    },
    {
      "cell_type": "markdown",
      "source": [
        "### 26. Escribe un programa que calcule e imprima los primeros números de la serie de los números de Lucas a discresión del usuario."
      ],
      "metadata": {
        "id": "YSSIYtcANrla"
      }
    },
    {
      "cell_type": "code",
      "source": [
        "def calcular_numeros_lucas(n):\n",
        "    numeros_lucas = [2, 1]\n",
        "\n",
        "    while len(numeros_lucas) < n:\n",
        "        siguiente_numero = numeros_lucas[-1] + numeros_lucas[-2]\n",
        "        numeros_lucas.append(siguiente_numero)\n",
        "\n",
        "    return numeros_lucas\n",
        "\n",
        "# Solicitar al usuario el valor de N\n",
        "N = int(input(\"Ingrese la cantidad de números de Lucas a generar: \"))\n",
        "\n",
        "# Calcular los números de Lucas y mostrar los resultados\n",
        "numeros_lucas = calcular_numeros_lucas(N)\n",
        "print(f\"Los primeros {N} números de Lucas son: {numeros_lucas}\")"
      ],
      "metadata": {
        "colab": {
          "base_uri": "https://localhost:8080/"
        },
        "id": "PzahrE-nNAwB",
        "outputId": "7256175d-2514-454b-da0e-e4f4ca03e22a"
      },
      "execution_count": null,
      "outputs": [
        {
          "output_type": "stream",
          "name": "stdout",
          "text": [
            "Ingrese la cantidad de números de Lucas a generar: 5\n",
            "Los primeros 5 números de Lucas son: [2, 1, 3, 4, 7]\n"
          ]
        }
      ]
    },
    {
      "cell_type": "markdown",
      "source": [
        "### 27. Crea una función calcular_cuota_mensual que calcule la cuota mensual de un préstamo hipotecario"
      ],
      "metadata": {
        "id": "whQPgYiwNsyt"
      }
    },
    {
      "cell_type": "code",
      "source": [
        "def calcular_cuota_mensual(monto_prestamo, tasa_interes_anual, plazo_meses):\n",
        "    tasa_interes_mensual = tasa_interes_anual / 12 / 100\n",
        "    cuota_mensual = monto_prestamo * (tasa_interes_mensual * (1 + tasa_interes_mensual) ** plazo_meses) / ((1 + tasa_interes_mensual) ** plazo_meses - 1)\n",
        "    return cuota_mensual\n",
        "\n",
        "# Solicitar al usuario los detalles del préstamo hipotecario\n",
        "monto = float(input(\"Ingrese el monto del préstamo: \"))\n",
        "tasa = float(input(\"Ingrese la tasa de interés anual (%): \"))\n",
        "plazo = int(input(\"Ingrese el plazo del préstamo en meses: \"))\n",
        "\n",
        "# Calcular y mostrar la cuota mensual\n",
        "cuota_mensual = calcular_cuota_mensual(monto, tasa, plazo)\n",
        "print(f\"La cuota mensual del préstamo hipotecario es: {cuota_mensual:.2f}\")"
      ],
      "metadata": {
        "colab": {
          "base_uri": "https://localhost:8080/"
        },
        "id": "aKb0ZbJYNCwF",
        "outputId": "2a02e44b-0c39-40b3-f648-6b84a3f50ad4"
      },
      "execution_count": null,
      "outputs": [
        {
          "output_type": "stream",
          "name": "stdout",
          "text": [
            "Ingrese el monto del préstamo: 4500000\n",
            "Ingrese la tasa de interés anual (%): 3\n",
            "Ingrese el plazo del préstamo en meses: 12\n",
            "La cuota mensual del préstamo hipotecario es: 381121.64\n"
          ]
        }
      ]
    },
    {
      "cell_type": "markdown",
      "source": [
        "### 28. Escribe una función que determine si un número es un número de Armstrong (un número de n dígitos que es igual a la suma de sus dígitos elevados a la n)."
      ],
      "metadata": {
        "id": "LjbipBWGNt0J"
      }
    },
    {
      "cell_type": "code",
      "source": [
        "def es_numero_armstrong(numero):\n",
        "    n = len(str(numero))\n",
        "    suma_digitos = sum(int(digit) ** n for digit in str(numero))\n",
        "    return numero == suma_digitos\n",
        "\n",
        "# Solicitar al usuario un número para verificar\n",
        "numero = int(input(\"Ingrese un número para verificar si es un número de Armstrong: \"))\n",
        "\n",
        "if es_numero_armstrong(numero):\n",
        "    print(f\"{numero} es un número de Armstrong.\")\n",
        "else:\n",
        "    print(f\"{numero} no es un número de Armstrong.\")"
      ],
      "metadata": {
        "colab": {
          "base_uri": "https://localhost:8080/"
        },
        "id": "lRaL6xYoNE_i",
        "outputId": "55d9c624-c3fa-4d7e-897d-42fc44942c2a"
      },
      "execution_count": null,
      "outputs": [
        {
          "output_type": "stream",
          "name": "stdout",
          "text": [
            "Ingrese un número para verificar si es un número de Armstrong: 153\n",
            "153 es un número de Armstrong.\n"
          ]
        }
      ]
    },
    {
      "cell_type": "markdown",
      "source": [
        "### 29. Define un diccionario que almacene los símbolos de moneda y sus respectivos códigos. Escribe un programa que convierta una cantidad de dinero de una moneda a otra."
      ],
      "metadata": {
        "id": "D08mygOeNul7"
      }
    },
    {
      "cell_type": "code",
      "source": [
        "# Definir el diccionario de símbolos de moneda y códigos\n",
        "monedas = {\n",
        "    \"USD\": \"$\",\n",
        "    \"EUR\": \"€\",\n",
        "    \"JPY\": \"¥\",\n",
        "    \"GBP\": \"£\"\n",
        "}\n",
        "\n",
        "# Definir tasas de cambio aproximadas (por ejemplo)\n",
        "tasas_cambio = {\n",
        "    \"USD\": 1.0,\n",
        "    \"EUR\": 0.85,\n",
        "    \"JPY\": 110.0,\n",
        "    \"GBP\": 0.72\n",
        "}\n",
        "\n",
        "def convertir_moneda(cantidad, moneda_origen, moneda_destino):\n",
        "    if moneda_origen not in tasas_cambio or moneda_destino not in tasas_cambio:\n",
        "        return None  # Monedas no admitidas\n",
        "    return cantidad * (tasas_cambio[moneda_destino] / tasas_cambio[moneda_origen])\n",
        "\n",
        "# Solicitar al usuario los detalles de la conversión\n",
        "cantidad = float(input(\"Ingrese la cantidad de dinero: \"))\n",
        "moneda_origen = input(\"Ingrese el código de la moneda de origen (USD, EUR, JPY, GBP): \").upper()\n",
        "moneda_destino = input(\"Ingrese el código de la moneda de destino (USD, EUR, JPY, GBP): \").upper()\n",
        "\n",
        "# Realizar la conversión y mostrar los resultados\n",
        "cantidad_convertida = convertir_moneda(cantidad, moneda_origen, moneda_destino)\n",
        "if cantidad_convertida is not None:\n",
        "    simbolo_origen = monedas.get(moneda_origen, moneda_origen)\n",
        "    simbolo_destino = monedas.get(moneda_destino, moneda_destino)\n",
        "    print(f\"{cantidad:.2f} {simbolo_origen} es equivalente a {cantidad_convertida:.2f} {simbolo_destino}\")\n",
        "else:\n",
        "    print(\"Monedas no admitidas.\")"
      ],
      "metadata": {
        "colab": {
          "base_uri": "https://localhost:8080/"
        },
        "id": "U6yElKM_NGtt",
        "outputId": "0da80fdb-03bd-4020-c384-9a4a27080935"
      },
      "execution_count": null,
      "outputs": [
        {
          "output_type": "stream",
          "name": "stdout",
          "text": [
            "Ingrese la cantidad de dinero: 5000\n",
            "Ingrese el código de la moneda de origen (USD, EUR, JPY, GBP): eur\n",
            "Ingrese el código de la moneda de destino (USD, EUR, JPY, GBP): usd\n",
            "5000.00 € es equivalente a 5882.35 $\n"
          ]
        }
      ]
    },
    {
      "cell_type": "markdown",
      "source": [
        "### 30. Crea una función que calcule la desviación estándar de una lista de números."
      ],
      "metadata": {
        "id": "GqY-vD8xNvaG"
      }
    },
    {
      "cell_type": "code",
      "source": [
        "import math\n",
        "\n",
        "def calcular_desviacion_estandar(lista_numeros):\n",
        "    n = len(lista_numeros)\n",
        "    if n <= 1:\n",
        "        return None  # No se puede calcular la desviación estándar con menos de 2 elementos\n",
        "\n",
        "    media = sum(lista_numeros) / n\n",
        "    suma_diferencias_cuadrado = sum((num - media) ** 2 for num in lista_numeros)\n",
        "    desviacion_estandar = math.sqrt(suma_diferencias_cuadrado / (n - 1))\n",
        "    return desviacion_estandar\n",
        "\n",
        "# Solicitar al usuario una lista de números separados por espacios\n",
        "entrada_numeros = input(\"Ingrese una lista de números separados por espacios: \")\n",
        "lista_numeros = [float(num) for num in entrada_numeros.split()]\n",
        "\n",
        "# Calcular y mostrar la desviación estándar\n",
        "desviacion = calcular_desviacion_estandar(lista_numeros)\n",
        "if desviacion is not None:\n",
        "    print(f\"La desviación estándar de la lista de números es: {desviacion:.2f}\")\n",
        "else:\n",
        "    print(\"No hay suficientes elementos en la lista para calcular la desviación estándar.\")"
      ],
      "metadata": {
        "colab": {
          "base_uri": "https://localhost:8080/"
        },
        "id": "RzSRCnS7NJJ3",
        "outputId": "ed1754cf-de31-47e2-b0e2-ac9dc826d747"
      },
      "execution_count": null,
      "outputs": [
        {
          "output_type": "stream",
          "name": "stdout",
          "text": [
            "Ingrese una lista de números separados por espacios: 34 56 78 90 12 34 56 78\n",
            "La desviación estándar de la lista de números es: 26.77\n"
          ]
        }
      ]
    }
  ]
}