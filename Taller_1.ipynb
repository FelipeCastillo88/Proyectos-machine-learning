{
  "cells": [
    {
      "cell_type": "markdown",
      "source": [
        "#Machine Learning\n",
        "##Taller 1"
      ],
      "metadata": {
        "id": "U2Y0V-_HAMtc"
      }
    },
    {
      "cell_type": "code",
      "source": [
        "def suma_division(a:int, b:int, c:int):\n",
        "  if type(a)==int and type(b)==int and type(c)==int:\n",
        "    suma = a + b\n",
        "    if c==0:\n",
        "      print (f\"El numero {c} debe ser difernte de cero\")\n",
        "    else:\n",
        "      division = suma / c\n",
        "      print (division)\n",
        "  else:\n",
        "     print (f\"Los datos ingresados deben ser enteros\")\n",
        "\n"
      ],
      "metadata": {
        "id": "PNMnKhtM27df"
      },
      "execution_count": null,
      "outputs": []
    },
    {
      "cell_type": "code",
      "source": [
        "suma_division (10,20,5)"
      ],
      "metadata": {
        "colab": {
          "base_uri": "https://localhost:8080/"
        },
        "id": "5yXurZg9-e9v",
        "outputId": "8668b766-bd14-472e-ae4c-282c69a70d8c"
      },
      "execution_count": null,
      "outputs": [
        {
          "output_type": "stream",
          "name": "stdout",
          "text": [
            "6.0\n"
          ]
        }
      ]
    }
  ],
  "metadata": {
    "colab": {
      "toc_visible": true,
      "provenance": []
    },
    "kernelspec": {
      "display_name": "Python 3",
      "name": "python3"
    }
  },
  "nbformat": 4,
  "nbformat_minor": 0
}